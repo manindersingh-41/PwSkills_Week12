{
 "cells": [
  {
   "cell_type": "markdown",
   "id": "832adb24-21b8-49e8-b111-2c7e09d88af2",
   "metadata": {},
   "source": [
    "# Week 7 Advance Statistics Assignment - 7"
   ]
  },
  {
   "cell_type": "markdown",
   "id": "080db607-3265-4f7c-8267-69842c8c40c7",
   "metadata": {},
   "source": [
    "### Q1. Write a Python function that takes in two arrays of data and calculates the F-value for a variance ratio test. The function should return the F-value and the corresponding p-value for the test."
   ]
  },
  {
   "cell_type": "code",
   "execution_count": 1,
   "id": "169cbbd1-79be-4ad1-9010-30708070eb0e",
   "metadata": {},
   "outputs": [
    {
     "name": "stdout",
     "output_type": "stream",
     "text": [
      "F-value: 1.00\n",
      "P-value: 0.50\n"
     ]
    }
   ],
   "source": [
    "import numpy as np\n",
    "from scipy.stats import f\n",
    "def var_ratio_test(arr1, arr2):\n",
    "    var1 = np.var(arr1, ddof=1)\n",
    "    var2 = np.var(arr2, ddof=1)\n",
    "    f_value = var1 / var2\n",
    "    df1 = len(arr1) - 1\n",
    "    df2 = len(arr2) - 1\n",
    "    p_value = f.cdf(f_value, df1, df2)\n",
    "    return f_value, p_value\n",
    "arr1 = [1, 2, 3, 4, 5]\n",
    "arr2 = [6, 7, 8, 9, 10]\n",
    "f_value, p_value = var_ratio_test(arr1, arr2)\n",
    "print(f\"F-value: {f_value:.2f}\")\n",
    "print(f\"P-value: {p_value:.2f}\")"
   ]
  },
  {
   "cell_type": "markdown",
   "id": "4c5ca24c-20c8-431d-9707-49bd9ada6e4b",
   "metadata": {},
   "source": [
    "### Q2. Given a significance level of 0.05 and the degrees of freedom for the numerator and denominator of an F-distribution, write a Python function that returns the critical F-value for a two-tailed test."
   ]
  },
  {
   "cell_type": "code",
   "execution_count": 2,
   "id": "ecd7f7ca-f0bd-4308-a2cc-946609713111",
   "metadata": {},
   "outputs": [
    {
     "name": "stdout",
     "output_type": "stream",
     "text": [
      "Critical F-value: 4.0768\n"
     ]
    }
   ],
   "source": [
    "from scipy.stats import f\n",
    "def critical_f_value(dfn,dfd, alpha=0.05):\n",
    "    f_crit = f.ppf(1-alpha/2, dfn, dfd)\n",
    "    return f_crit\n",
    "dfn = 3\n",
    "dfd = 16\n",
    "alpha = 0.05\n",
    "f_crit = critical_f_value(dfn, dfd, alpha)\n",
    "print(f\"Critical F-value: {f_crit:.4f}\")"
   ]
  },
  {
   "cell_type": "markdown",
   "id": "c3ed7859-de55-4d4b-9261-2925b05ada76",
   "metadata": {},
   "source": [
    "### Q3. Write a Python program that generates random samples from two normal distributions with known variances and uses an F-test to determine if the variances are equal. The program should output the F-value, degrees of freedom, and p-value for the test."
   ]
  },
  {
   "cell_type": "code",
   "execution_count": 3,
   "id": "76abd1f8-bb72-4488-98a9-692735696884",
   "metadata": {},
   "outputs": [
    {
     "name": "stdout",
     "output_type": "stream",
     "text": [
      "The null hypothesis that the variances are equal is not rejected.\n",
      "F-value: 1.7070\n",
      "Degrees of freedom (numerator): 19\n",
      "Degrees of freedom (denominator): 19\n",
      "P-value: 0.1264\n"
     ]
    }
   ],
   "source": [
    "import numpy as np\n",
    "from scipy.stats import f\n",
    "def f_test(sample1, sample2, var1, var2, alpha=0.05):\n",
    "    s1_var = np.var(sample1, ddof=1)\n",
    "    s2_var = np.var(sample2, ddof=1)\n",
    "    f_value = s1_var / s2_var if s1_var > s2_var else s2_var / s1_var\n",
    "    dfn = len(sample1) - 1 if s1_var > s2_var else len(sample2) - 1\n",
    "    dfd = len(sample2) - 1 if s1_var > s2_var else len(sample1) - 1\n",
    "    p_value = f.sf(f_value, dfn, dfd)\n",
    "    if p_value < alpha:\n",
    "        print(\"The null hypothesis that the variances are equal is rejected.\")\n",
    "    else:\n",
    "        print(\"The null hypothesis that the variances are equal is not rejected.\")\n",
    "    return f_value, dfn, dfd, p_value\n",
    "np.random.seed(123)\n",
    "sample1 = np.random.normal(10, 2, size=20)\n",
    "sample2 = np.random.normal(10, 3, size=20)\n",
    "f_value, dfn, dfd, p_value = f_test(sample1, sample2, var1=2**2, var2=3**2)\n",
    "print(f\"F-value: {f_value:.4f}\")\n",
    "print(f\"Degrees of freedom (numerator): {dfn}\")\n",
    "print(f\"Degrees of freedom (denominator): {dfd}\")\n",
    "print(f\"P-value: {p_value:.4f}\")"
   ]
  },
  {
   "cell_type": "markdown",
   "id": "a987ae93-2a02-400f-b886-6d73fc751c16",
   "metadata": {},
   "source": [
    "### Q4. The variances of two populations are known to be 10 and 15. A sample of 12 observations is taken from each population. Conduct an F-test at the 5% significance level to determine if the variances are significantly different."
   ]
  },
  {
   "cell_type": "code",
   "execution_count": 4,
   "id": "3d1786e4-cd96-4154-ac96-465f2f5a1b4e",
   "metadata": {},
   "outputs": [
    {
     "name": "stdout",
     "output_type": "stream",
     "text": [
      "There is no significant difference between the variances.\n"
     ]
    }
   ],
   "source": [
    "import numpy as np\n",
    "from scipy.stats import f\n",
    "n1 = 12\n",
    "n2 = 12\n",
    "var1 = 10\n",
    "var2 = 15\n",
    "f_stat = var1 / var2\n",
    "p_val = f.cdf(f_stat, n1 - 1, n2 - 1)\n",
    "alpha = 0.05\n",
    "if p_val < alpha / 2 or p_val > 1 - alpha / 2:\n",
    "    print(\"The variances are significantly different.\")\n",
    "else:\n",
    "    print(\"There is no significant difference between the variances.\")"
   ]
  },
  {
   "cell_type": "markdown",
   "id": "96bd0d30-c7c8-4237-85f8-9f621919d37f",
   "metadata": {},
   "source": [
    "### Q5. A manufacturer claims that the variance of the diameter of a certain product is 0.005. A sample of 25 products is taken, and the sample variance is found to be 0.006. Conduct an F-test at the 1% significance level to determine if the claim is justified."
   ]
  },
  {
   "cell_type": "code",
   "execution_count": 14,
   "id": "830d2294-748a-4f1b-aae4-a73b6a81f1f6",
   "metadata": {},
   "outputs": [
    {
     "name": "stdout",
     "output_type": "stream",
     "text": [
      "The manufacturer's claim is not justified.\n"
     ]
    }
   ],
   "source": [
    "import numpy as np\n",
    "from scipy.stats import f\n",
    "n = 25\n",
    "sample_var = 0.006\n",
    "hypo_var = 0.005\n",
    "f_stat = sample_var / hypo_var\n",
    "p_val = f.cdf(f_stat, n - 1, np.inf)\n",
    "alpha = 0.01\n",
    "if p_val < alpha:\n",
    "    print(\"The manufacturer's claim is not justified.\")\n",
    "else:\n",
    "    print(\"The manufacturer's claim is justified.\")"
   ]
  },
  {
   "cell_type": "markdown",
   "id": "75b73262-664a-429b-b54e-7296dbd4e526",
   "metadata": {},
   "source": [
    "### Q6. Write a Python function that takes in the degrees of freedom for the numerator and denominator of an F-distribution and calculates the mean and variance of the distribution. The function should return the mean and variance as a tuple."
   ]
  },
  {
   "cell_type": "code",
   "execution_count": 13,
   "id": "2fa2ceab-9c2c-4cbb-beb4-afedb3ab6476",
   "metadata": {},
   "outputs": [
    {
     "name": "stdout",
     "output_type": "stream",
     "text": [
      "Mean:  1.25\n",
      "Variance: 1.3542\n"
     ]
    }
   ],
   "source": [
    "import numpy as np\n",
    "from scipy.stats import f\n",
    "def f_distribution_mean_var(dfn, dfd):\n",
    "    mean = dfd / (dfd - 2)\n",
    "    variance = (2 * dfd**2 * (dfn + dfd - 2)) / (dfn * (dfd - 2)**2 * (dfd - 4))\n",
    "    return (mean, variance)\n",
    "mean, variance = f_distribution_mean_var(5, 10)\n",
    "print(\"Mean: \", mean)\n",
    "print(f\"Variance: {variance:.4f}\")"
   ]
  },
  {
   "cell_type": "markdown",
   "id": "767714a2-6294-4878-b053-4cbdae474f01",
   "metadata": {},
   "source": [
    "### Q7. A random sample of 10 measurements is taken from a normal population with unknown variance. The sample variance is found to be 25. Another random sample of 15 measurements is taken from another normal population with unknown variance, and the sample variance is found to be 20. Conduct an F-test at the 10% significance level to determine if the variances are significantly different."
   ]
  },
  {
   "cell_type": "code",
   "execution_count": 11,
   "id": "8efeb90f-7baa-40fb-8bac-988e9f781b6c",
   "metadata": {},
   "outputs": [
    {
     "name": "stdout",
     "output_type": "stream",
     "text": [
      "The variances are not significantly different.\n"
     ]
    }
   ],
   "source": [
    "\n",
    "from scipy.stats import f\n",
    "n1 = 10\n",
    "n2 = 15\n",
    "s1_sq = 25\n",
    "s2_sq = 20\n",
    "f_stat = s1_sq / s2_sq\n",
    "p_val = f.cdf(f_stat, n1 - 1, n2 - 1)\n",
    "alpha = 0.1\n",
    "if p_val < alpha:\n",
    "    print(\"The variances are significantly different.\")\n",
    "else:\n",
    "    print(\"The variances are not significantly different.\")"
   ]
  },
  {
   "cell_type": "markdown",
   "id": "add48a0a-af7c-473d-8fa7-3e650ddd6ea0",
   "metadata": {},
   "source": [
    "### Q8. The following data represent the waiting times in minutes at two different restaurants on a Saturday night: Restaurant A: 24, 25, 28, 23, 22, 20, 27; Restaurant B: 31, 33, 35, 30, 32, 36. Conduct an F-test at the 5% significance level to determine if the variances are significantly different."
   ]
  },
  {
   "cell_type": "code",
   "execution_count": 10,
   "id": "09d8b728-78da-4bcc-82c8-03f389fb98bf",
   "metadata": {},
   "outputs": [
    {
     "name": "stdout",
     "output_type": "stream",
     "text": [
      "The variances are not significantly different.\n"
     ]
    }
   ],
   "source": [
    "from scipy.stats import f\n",
    "a = [24, 25, 28, 23, 22, 20, 27]\n",
    "b = [31, 33, 35, 30, 32, 36]\n",
    "n1 = len(a)\n",
    "n2 = len(b)\n",
    "s1_sq = sum((x - sum(a)/n1)**2 for x in a) / (n1 - 1)\n",
    "s2_sq = sum((x - sum(b)/n2)**2 for x in b) / (n2 - 1)\n",
    "f_stat = s1_sq / s2_sq\n",
    "p_val = f.cdf(f_stat, n1 - 1, n2 - 1)\n",
    "alpha = 0.05\n",
    "if p_val < alpha:\n",
    "    print(\"The variances are significantly different.\")\n",
    "else:\n",
    "    print(\"The variances are not significantly different.\")"
   ]
  },
  {
   "cell_type": "markdown",
   "id": "53e57024-7d2f-4ee3-accc-c8690fe533e2",
   "metadata": {},
   "source": [
    "### Q9. The following data represent the test scores of two groups of students: Group A: 80, 85, 90, 92, 87, 83; Group B: 75, 78, 82, 79, 81, 84. Conduct an F-test at the 1% significance level to determine if the variances are significantly different."
   ]
  },
  {
   "cell_type": "code",
   "execution_count": 16,
   "id": "d1c141c4-62e9-4d5e-92a7-925fae306774",
   "metadata": {},
   "outputs": [
    {
     "name": "stdout",
     "output_type": "stream",
     "text": [
      "The variances are not significantly different (fail to reject null hypothesis)\n"
     ]
    }
   ],
   "source": [
    "from scipy.stats import f_oneway\n",
    "group_a = [80, 85, 90, 92, 87, 83]\n",
    "group_b = [75, 78, 82, 79, 81, 84]\n",
    "f_statistic, p_value = f_oneway(group_a, group_b)\n",
    "alpha = 0.01\n",
    "if p_value < alpha:\n",
    "    print(\"The variances are significantly different (reject null hypothesis)\")\n",
    "else:\n",
    "    print(\"The variances are not significantly different (fail to reject null hypothesis)\")"
   ]
  }
 ],
 "metadata": {
  "kernelspec": {
   "display_name": "Python 3 (ipykernel)",
   "language": "python",
   "name": "python3"
  },
  "language_info": {
   "codemirror_mode": {
    "name": "ipython",
    "version": 3
   },
   "file_extension": ".py",
   "mimetype": "text/x-python",
   "name": "python",
   "nbconvert_exporter": "python",
   "pygments_lexer": "ipython3",
   "version": "3.10.8"
  }
 },
 "nbformat": 4,
 "nbformat_minor": 5
}
